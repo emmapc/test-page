{
 "metadata": {
  "name": "",
  "signature": "sha256:db2943f88bf510fedb9b7e7f681c264da66276a20e9519395df46d4d78e13b21"
 },
 "nbformat": 3,
 "nbformat_minor": 0,
 "worksheets": [
  {
   "cells": [
    {
     "cell_type": "code",
     "collapsed": false,
     "input": [
      "!pip install requests"
     ],
     "language": "python",
     "metadata": {},
     "outputs": [
      {
       "output_type": "stream",
       "stream": "stdout",
       "text": [
        "Requirement already satisfied (use --upgrade to upgrade): requests in c:\\users\\emma\\anaconda\\lib\\site-packages\n",
        "Cleaning up...\n"
       ]
      }
     ],
     "prompt_number": 1
    },
    {
     "cell_type": "code",
     "collapsed": false,
     "input": [
      "!pip install pyquery"
     ],
     "language": "python",
     "metadata": {},
     "outputs": [
      {
       "output_type": "stream",
       "stream": "stdout",
       "text": [
        "Downloading/unpacking pyquery\n",
        "  Running setup.py (path:c:\\users\\emma\\appdata\\local\\temp\\pip_build_Emma\\pyquery\\setup.py) egg_info for package pyquery\n",
        "    \n",
        "    no previously-included directories found matching 'docs\\_build'\n",
        "    warning: no previously-included files matching '*.pyc' found anywhere in distribution\n",
        "    warning: no previously-included files matching '__pycache__' found anywhere in distribution\n",
        "Requirement already satisfied (use --upgrade to upgrade): lxml>=2.1 in c:\\users\\emma\\anaconda\\lib\\site-packages (from pyquery)\n",
        "Downloading/unpacking cssselect (from pyquery)\n",
        "  Downloading cssselect-0.9.1.tar.gz\n",
        "  Running setup.py (path:c:\\users\\emma\\appdata\\local\\temp\\pip_build_Emma\\cssselect\\setup.py) egg_info for package cssselect\n",
        "    \n",
        "    no previously-included directories found matching 'docs\\_build'\n",
        "Installing collected packages: pyquery, cssselect\n",
        "  Running setup.py install for pyquery\n",
        "    \n",
        "    no previously-included directories found matching 'docs\\_build'\n",
        "    warning: no previously-included files matching '*.pyc' found anywhere in distribution\n",
        "    warning: no previously-included files matching '__pycache__' found anywhere in distribution\n",
        "  Running setup.py install for cssselect\n",
        "    \n",
        "    no previously-included directories found matching 'docs\\_build'\n",
        "Successfully installed pyquery cssselect\n",
        "Cleaning up...\n"
       ]
      }
     ],
     "prompt_number": 2
    },
    {
     "cell_type": "code",
     "collapsed": false,
     "input": [
      "!pip install twitter"
     ],
     "language": "python",
     "metadata": {},
     "outputs": [
      {
       "output_type": "stream",
       "stream": "stdout",
       "text": [
        "Downloading/unpacking twitter\n",
        "Installing collected packages: twitter\n",
        "Successfully installed twitter\n",
        "Cleaning up...\n"
       ]
      }
     ],
     "prompt_number": 3
    },
    {
     "cell_type": "markdown",
     "metadata": {},
     "source": [
      "$$E = m \\times c^2 $$\n",
      "\n",
      "The world is a fraction like $$ a = \\frac{b}{c} $$"
     ]
    },
    {
     "cell_type": "code",
     "collapsed": false,
     "input": [],
     "language": "python",
     "metadata": {},
     "outputs": [],
     "prompt_number": 4
    },
    {
     "cell_type": "code",
     "collapsed": false,
     "input": [],
     "language": "python",
     "metadata": {},
     "outputs": []
    }
   ],
   "metadata": {}
  }
 ]
}